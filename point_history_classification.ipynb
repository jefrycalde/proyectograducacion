{
 "cells": [
  {
   "cell_type": "code",
   "execution_count": 1,
   "metadata": {},
   "outputs": [
    {
     "name": "stdout",
     "output_type": "stream",
     "text": [
      "WARNING:tensorflow:From c:\\Users\\selca\\AppData\\Local\\Programs\\Python\\Python311\\Lib\\site-packages\\tensorflow\\python\\ops\\distributions\\distribution.py:259: ReparameterizationType.__init__ (from tensorflow.python.ops.distributions.distribution) is deprecated and will be removed after 2019-01-01.\n",
      "Instructions for updating:\n",
      "The TensorFlow Distributions library has moved to TensorFlow Probability (https://github.com/tensorflow/probability). You should update all references to use `tfp.distributions` instead of `tf.distributions`.\n",
      "WARNING:tensorflow:From c:\\Users\\selca\\AppData\\Local\\Programs\\Python\\Python311\\Lib\\site-packages\\tensorflow\\python\\ops\\distributions\\bernoulli.py:165: RegisterKL.__init__ (from tensorflow.python.ops.distributions.kullback_leibler) is deprecated and will be removed after 2019-01-01.\n",
      "Instructions for updating:\n",
      "The TensorFlow Distributions library has moved to TensorFlow Probability (https://github.com/tensorflow/probability). You should update all references to use `tfp.distributions` instead of `tf.distributions`.\n"
     ]
    }
   ],
   "source": [
    "import csv\n",
    "\n",
    "import numpy as np\n",
    "import tensorflow as tf\n",
    "from sklearn.model_selection import train_test_split\n",
    "\n",
    "RANDOM_SEED = 42"
   ]
  },
  {
   "cell_type": "markdown",
   "metadata": {},
   "source": [
    "# rutas especificas"
   ]
  },
  {
   "cell_type": "code",
   "execution_count": 2,
   "metadata": {},
   "outputs": [],
   "source": [
    "dataset = 'model/point_history_classifier/point_history.csv'\n",
    "model_save_path = 'model/point_history_classifier/point_history_classifier.hdf5'"
   ]
  },
  {
   "cell_type": "markdown",
   "metadata": {},
   "source": [
    "# Configuración del número de clasificación\n"
   ]
  },
  {
   "cell_type": "code",
   "execution_count": 3,
   "metadata": {},
   "outputs": [],
   "source": [
    "NUM_CLASSES = 4"
   ]
  },
  {
   "cell_type": "markdown",
   "metadata": {},
   "source": [
    "# longitud de entrada\n"
   ]
  },
  {
   "cell_type": "code",
   "execution_count": 4,
   "metadata": {},
   "outputs": [],
   "source": [
    "TIME_STEPS = 16\n",
    "DIMENSION = 2"
   ]
  },
  {
   "cell_type": "markdown",
   "metadata": {},
   "source": [
    "# Cargar datos de aprendizaje\n"
   ]
  },
  {
   "cell_type": "code",
   "execution_count": 5,
   "metadata": {},
   "outputs": [],
   "source": [
    "X_dataset = np.loadtxt(dataset, delimiter=',', dtype='float32', usecols=list(range(1, (TIME_STEPS * DIMENSION) + 1)))"
   ]
  },
  {
   "cell_type": "code",
   "execution_count": 6,
   "metadata": {},
   "outputs": [],
   "source": [
    "y_dataset = np.loadtxt(dataset, delimiter=',', dtype='int32', usecols=(0))"
   ]
  },
  {
   "cell_type": "code",
   "execution_count": 7,
   "metadata": {},
   "outputs": [],
   "source": [
    "X_train, X_test, y_train, y_test = train_test_split(X_dataset, y_dataset, train_size=0.75, random_state=RANDOM_SEED)"
   ]
  },
  {
   "cell_type": "markdown",
   "metadata": {},
   "source": [
    "# construcción del modelo"
   ]
  },
  {
   "cell_type": "code",
   "execution_count": 8,
   "metadata": {},
   "outputs": [],
   "source": [
    "use_lstm = False\n",
    "model = None\n",
    "\n",
    "if use_lstm:\n",
    "    model = tf.keras.models.Sequential([\n",
    "        tf.keras.layers.InputLayer(input_shape=(TIME_STEPS * DIMENSION, )),\n",
    "        tf.keras.layers.Reshape((TIME_STEPS, DIMENSION), input_shape=(TIME_STEPS * DIMENSION, )), \n",
    "        tf.keras.layers.Dropout(0.2),\n",
    "        tf.keras.layers.LSTM(16, input_shape=[TIME_STEPS, DIMENSION]),\n",
    "        tf.keras.layers.Dropout(0.5),\n",
    "        tf.keras.layers.Dense(10, activation='relu'),\n",
    "        tf.keras.layers.Dense(NUM_CLASSES, activation='softmax')\n",
    "    ])\n",
    "else:\n",
    "    model = tf.keras.models.Sequential([\n",
    "        tf.keras.layers.InputLayer(input_shape=(TIME_STEPS * DIMENSION, )),\n",
    "        tf.keras.layers.Dropout(0.2),\n",
    "        tf.keras.layers.Dense(24, activation='relu'),\n",
    "        tf.keras.layers.Dropout(0.5),\n",
    "        tf.keras.layers.Dense(10, activation='relu'),\n",
    "        tf.keras.layers.Dense(NUM_CLASSES, activation='softmax')\n",
    "    ])"
   ]
  },
  {
   "cell_type": "code",
   "execution_count": 9,
   "metadata": {},
   "outputs": [
    {
     "name": "stdout",
     "output_type": "stream",
     "text": [
      "Model: \"sequential\"\n",
      "_________________________________________________________________\n",
      " Layer (type)                Output Shape              Param #   \n",
      "=================================================================\n",
      " dropout (Dropout)           (None, 32)                0         \n",
      "                                                                 \n",
      " dense (Dense)               (None, 24)                792       \n",
      "                                                                 \n",
      " dropout_1 (Dropout)         (None, 24)                0         \n",
      "                                                                 \n",
      " dense_1 (Dense)             (None, 10)                250       \n",
      "                                                                 \n",
      " dense_2 (Dense)             (None, 4)                 44        \n",
      "                                                                 \n",
      "=================================================================\n",
      "Total params: 1086 (4.24 KB)\n",
      "Trainable params: 1086 (4.24 KB)\n",
      "Non-trainable params: 0 (0.00 Byte)\n",
      "_________________________________________________________________\n"
     ]
    }
   ],
   "source": [
    "model.summary()  # tf.keras.utils.plot_model(model, show_shapes=True)"
   ]
  },
  {
   "cell_type": "code",
   "execution_count": 10,
   "metadata": {},
   "outputs": [],
   "source": [
    "# Devolución de llamada del punto de control del modelo\n",
    "\n",
    "cp_callback = tf.keras.callbacks.ModelCheckpoint(\n",
    "    model_save_path, verbose=1, save_weights_only=False)\n",
    "# devolución de llamada para EarlyStopping\n",
    "es_callback = tf.keras.callbacks.EarlyStopping(patience=20, verbose=1)"
   ]
  },
  {
   "cell_type": "code",
   "execution_count": 11,
   "metadata": {},
   "outputs": [],
   "source": [
    "# compilación de modelos\n",
    "\n",
    "model.compile(\n",
    "    optimizer='adam',\n",
    "    loss='sparse_categorical_crossentropy',\n",
    "    metrics=['accuracy']\n",
    ")"
   ]
  },
  {
   "cell_type": "markdown",
   "metadata": {},
   "source": [
    "# entrenamiento modelo\n"
   ]
  },
  {
   "cell_type": "code",
   "execution_count": 12,
   "metadata": {
    "scrolled": true
   },
   "outputs": [
    {
     "name": "stdout",
     "output_type": "stream",
     "text": [
      "Epoch 1/1000\n",
      " 1/32 [..............................] - ETA: 15s - loss: 1.3600 - accuracy: 0.2422\n",
      "Epoch 1: saving model to model/point_history_classifier\\point_history_classifier.hdf5\n",
      "32/32 [==============================] - 1s 6ms/step - loss: 1.3516 - accuracy: 0.4575 - val_loss: 1.3452 - val_accuracy: 0.5438\n",
      "Epoch 2/1000\n",
      " 1/32 [..............................] - ETA: 0s - loss: 1.3269 - accuracy: 0.4688\n",
      "Epoch 2: saving model to model/point_history_classifier\\point_history_classifier.hdf5\n",
      "32/32 [==============================] - 0s 2ms/step - loss: 1.3258 - accuracy: 0.5176 - val_loss: 1.3147 - val_accuracy: 0.5566\n",
      "Epoch 3/1000\n",
      " 1/32 [..............................] - ETA: 0s - loss: 1.3229 - accuracy: 0.4531\n",
      "Epoch 3: saving model to model/point_history_classifier\\point_history_classifier.hdf5\n",
      "32/32 [==============================] - 0s 2ms/step - loss: 1.2982 - accuracy: 0.5264 - val_loss: 1.2776 - val_accuracy: 0.5612\n",
      "Epoch 4/1000\n",
      " 1/32 [..............................] - ETA: 0s - loss: 1.2985 - accuracy: 0.4922\n",
      "Epoch 4: saving model to model/point_history_classifier\\point_history_classifier.hdf5\n"
     ]
    },
    {
     "name": "stderr",
     "output_type": "stream",
     "text": [
      "c:\\Users\\selca\\AppData\\Local\\Programs\\Python\\Python311\\Lib\\site-packages\\keras\\src\\engine\\training.py:3086: UserWarning: You are saving your model as an HDF5 file via `model.save()`. This file format is considered legacy. We recommend using instead the native Keras format, e.g. `model.save('my_model.keras')`.\n",
      "  saving_api.save_model(\n"
     ]
    },
    {
     "name": "stdout",
     "output_type": "stream",
     "text": [
      "32/32 [==============================] - 0s 2ms/step - loss: 1.2585 - accuracy: 0.5320 - val_loss: 1.2345 - val_accuracy: 0.5642\n",
      "Epoch 5/1000\n",
      " 1/32 [..............................] - ETA: 0s - loss: 1.2306 - accuracy: 0.5312\n",
      "Epoch 5: saving model to model/point_history_classifier\\point_history_classifier.hdf5\n",
      "32/32 [==============================] - 0s 2ms/step - loss: 1.2221 - accuracy: 0.5519 - val_loss: 1.1920 - val_accuracy: 0.5869\n",
      "Epoch 6/1000\n",
      " 1/32 [..............................] - ETA: 0s - loss: 1.1837 - accuracy: 0.5781\n",
      "Epoch 6: saving model to model/point_history_classifier\\point_history_classifier.hdf5\n",
      "32/32 [==============================] - 0s 2ms/step - loss: 1.1836 - accuracy: 0.5710 - val_loss: 1.1475 - val_accuracy: 0.6269\n",
      "Epoch 7/1000\n",
      " 1/32 [..............................] - ETA: 0s - loss: 1.1470 - accuracy: 0.5859\n",
      "Epoch 7: saving model to model/point_history_classifier\\point_history_classifier.hdf5\n",
      "32/32 [==============================] - 0s 2ms/step - loss: 1.1502 - accuracy: 0.5811 - val_loss: 1.1046 - val_accuracy: 0.6843\n",
      "Epoch 8/1000\n",
      " 1/32 [..............................] - ETA: 0s - loss: 1.1399 - accuracy: 0.5938\n",
      "Epoch 8: saving model to model/point_history_classifier\\point_history_classifier.hdf5\n",
      "32/32 [==============================] - 0s 2ms/step - loss: 1.1111 - accuracy: 0.6375 - val_loss: 1.0623 - val_accuracy: 0.7440\n",
      "Epoch 9/1000\n",
      " 1/32 [..............................] - ETA: 0s - loss: 1.1268 - accuracy: 0.6328\n",
      "Epoch 9: saving model to model/point_history_classifier\\point_history_classifier.hdf5\n",
      "32/32 [==============================] - 0s 2ms/step - loss: 1.0788 - accuracy: 0.6601 - val_loss: 1.0208 - val_accuracy: 0.7931\n",
      "Epoch 10/1000\n",
      " 1/32 [..............................] - ETA: 0s - loss: 1.0704 - accuracy: 0.6562\n",
      "Epoch 10: saving model to model/point_history_classifier\\point_history_classifier.hdf5\n",
      "32/32 [==============================] - 0s 2ms/step - loss: 1.0395 - accuracy: 0.6820 - val_loss: 0.9793 - val_accuracy: 0.8172\n",
      "Epoch 11/1000\n",
      " 1/32 [..............................] - ETA: 0s - loss: 0.9950 - accuracy: 0.6875\n",
      "Epoch 11: saving model to model/point_history_classifier\\point_history_classifier.hdf5\n",
      "32/32 [==============================] - 0s 2ms/step - loss: 1.0151 - accuracy: 0.7004 - val_loss: 0.9373 - val_accuracy: 0.8520\n",
      "Epoch 12/1000\n",
      " 1/32 [..............................] - ETA: 0s - loss: 1.0405 - accuracy: 0.7500\n",
      "Epoch 12: saving model to model/point_history_classifier\\point_history_classifier.hdf5\n",
      "32/32 [==============================] - 0s 2ms/step - loss: 0.9800 - accuracy: 0.7019 - val_loss: 0.8977 - val_accuracy: 0.8784\n",
      "Epoch 13/1000\n",
      " 1/32 [..............................] - ETA: 0s - loss: 0.9824 - accuracy: 0.7266\n",
      "Epoch 13: saving model to model/point_history_classifier\\point_history_classifier.hdf5\n",
      "32/32 [==============================] - 0s 2ms/step - loss: 0.9457 - accuracy: 0.7216 - val_loss: 0.8583 - val_accuracy: 0.8935\n",
      "Epoch 14/1000\n",
      " 1/32 [..............................] - ETA: 0s - loss: 0.9762 - accuracy: 0.6328\n",
      "Epoch 14: saving model to model/point_history_classifier\\point_history_classifier.hdf5\n",
      "32/32 [==============================] - 0s 2ms/step - loss: 0.9243 - accuracy: 0.7311 - val_loss: 0.8206 - val_accuracy: 0.9041\n",
      "Epoch 15/1000\n",
      " 1/32 [..............................] - ETA: 0s - loss: 0.9262 - accuracy: 0.7656\n",
      "Epoch 15: saving model to model/point_history_classifier\\point_history_classifier.hdf5\n",
      "32/32 [==============================] - 0s 2ms/step - loss: 0.8905 - accuracy: 0.7450 - val_loss: 0.7861 - val_accuracy: 0.9116\n",
      "Epoch 16/1000\n",
      " 1/32 [..............................] - ETA: 0s - loss: 0.8526 - accuracy: 0.7812\n",
      "Epoch 16: saving model to model/point_history_classifier\\point_history_classifier.hdf5\n",
      "32/32 [==============================] - 0s 2ms/step - loss: 0.8714 - accuracy: 0.7492 - val_loss: 0.7540 - val_accuracy: 0.9169\n",
      "Epoch 17/1000\n",
      " 1/32 [..............................] - ETA: 0s - loss: 0.8179 - accuracy: 0.7422\n",
      "Epoch 17: saving model to model/point_history_classifier\\point_history_classifier.hdf5\n",
      "32/32 [==============================] - 0s 2ms/step - loss: 0.8384 - accuracy: 0.7581 - val_loss: 0.7245 - val_accuracy: 0.9290\n",
      "Epoch 18/1000\n",
      " 1/32 [..............................] - ETA: 0s - loss: 0.8307 - accuracy: 0.7891\n",
      "Epoch 18: saving model to model/point_history_classifier\\point_history_classifier.hdf5\n",
      "32/32 [==============================] - 0s 2ms/step - loss: 0.8203 - accuracy: 0.7656 - val_loss: 0.6927 - val_accuracy: 0.9426\n",
      "Epoch 19/1000\n",
      " 1/32 [..............................] - ETA: 0s - loss: 0.7801 - accuracy: 0.8125\n",
      "Epoch 19: saving model to model/point_history_classifier\\point_history_classifier.hdf5\n",
      "32/32 [==============================] - 0s 2ms/step - loss: 0.8134 - accuracy: 0.7671 - val_loss: 0.6663 - val_accuracy: 0.9403\n",
      "Epoch 20/1000\n",
      " 1/32 [..............................] - ETA: 0s - loss: 0.8033 - accuracy: 0.6719\n",
      "Epoch 20: saving model to model/point_history_classifier\\point_history_classifier.hdf5\n",
      "32/32 [==============================] - 0s 2ms/step - loss: 0.7792 - accuracy: 0.7873 - val_loss: 0.6418 - val_accuracy: 0.9441\n",
      "Epoch 21/1000\n",
      " 1/32 [..............................] - ETA: 0s - loss: 0.7765 - accuracy: 0.7109\n",
      "Epoch 21: saving model to model/point_history_classifier\\point_history_classifier.hdf5\n",
      "32/32 [==============================] - 0s 2ms/step - loss: 0.7680 - accuracy: 0.7800 - val_loss: 0.6204 - val_accuracy: 0.9418\n",
      "Epoch 22/1000\n",
      " 1/32 [..............................] - ETA: 0s - loss: 0.7286 - accuracy: 0.7812\n",
      "Epoch 22: saving model to model/point_history_classifier\\point_history_classifier.hdf5\n",
      "32/32 [==============================] - 0s 2ms/step - loss: 0.7594 - accuracy: 0.7832 - val_loss: 0.5978 - val_accuracy: 0.9449\n",
      "Epoch 23/1000\n",
      " 1/32 [..............................] - ETA: 0s - loss: 0.6930 - accuracy: 0.7891\n",
      "Epoch 23: saving model to model/point_history_classifier\\point_history_classifier.hdf5\n",
      "32/32 [==============================] - 0s 2ms/step - loss: 0.7291 - accuracy: 0.7873 - val_loss: 0.5789 - val_accuracy: 0.9464\n",
      "Epoch 24/1000\n",
      " 1/32 [..............................] - ETA: 0s - loss: 0.7359 - accuracy: 0.7656\n",
      "Epoch 24: saving model to model/point_history_classifier\\point_history_classifier.hdf5\n",
      "32/32 [==============================] - 0s 2ms/step - loss: 0.7193 - accuracy: 0.7855 - val_loss: 0.5626 - val_accuracy: 0.9456\n",
      "Epoch 25/1000\n",
      " 1/32 [..............................] - ETA: 0s - loss: 0.6282 - accuracy: 0.8438\n",
      "Epoch 25: saving model to model/point_history_classifier\\point_history_classifier.hdf5\n",
      "32/32 [==============================] - 0s 2ms/step - loss: 0.7000 - accuracy: 0.8036 - val_loss: 0.5442 - val_accuracy: 0.9471\n",
      "Epoch 26/1000\n",
      " 1/32 [..............................] - ETA: 0s - loss: 0.7384 - accuracy: 0.7891\n",
      "Epoch 26: saving model to model/point_history_classifier\\point_history_classifier.hdf5\n",
      "32/32 [==============================] - 0s 2ms/step - loss: 0.6914 - accuracy: 0.7905 - val_loss: 0.5290 - val_accuracy: 0.9509\n",
      "Epoch 27/1000\n",
      " 1/32 [..............................] - ETA: 0s - loss: 0.6541 - accuracy: 0.7891\n",
      "Epoch 27: saving model to model/point_history_classifier\\point_history_classifier.hdf5\n",
      "32/32 [==============================] - 0s 2ms/step - loss: 0.6797 - accuracy: 0.7993 - val_loss: 0.5174 - val_accuracy: 0.9471\n",
      "Epoch 28/1000\n",
      " 1/32 [..............................] - ETA: 0s - loss: 0.6034 - accuracy: 0.8594\n",
      "Epoch 28: saving model to model/point_history_classifier\\point_history_classifier.hdf5\n",
      "32/32 [==============================] - 0s 2ms/step - loss: 0.6668 - accuracy: 0.8094 - val_loss: 0.5004 - val_accuracy: 0.9509\n",
      "Epoch 29/1000\n",
      " 1/32 [..............................] - ETA: 0s - loss: 0.6202 - accuracy: 0.8125\n",
      "Epoch 29: saving model to model/point_history_classifier\\point_history_classifier.hdf5\n",
      "32/32 [==============================] - 0s 2ms/step - loss: 0.6537 - accuracy: 0.8079 - val_loss: 0.4890 - val_accuracy: 0.9494\n",
      "Epoch 30/1000\n",
      " 1/32 [..............................] - ETA: 0s - loss: 0.5657 - accuracy: 0.8438\n",
      "Epoch 30: saving model to model/point_history_classifier\\point_history_classifier.hdf5\n",
      "32/32 [==============================] - 0s 2ms/step - loss: 0.6424 - accuracy: 0.8129 - val_loss: 0.4778 - val_accuracy: 0.9502\n",
      "Epoch 31/1000\n",
      " 1/32 [..............................] - ETA: 0s - loss: 0.6522 - accuracy: 0.8359\n",
      "Epoch 31: saving model to model/point_history_classifier\\point_history_classifier.hdf5\n",
      "32/32 [==============================] - 0s 2ms/step - loss: 0.6275 - accuracy: 0.8165 - val_loss: 0.4647 - val_accuracy: 0.9517\n",
      "Epoch 32/1000\n",
      " 1/32 [..............................] - ETA: 0s - loss: 0.6401 - accuracy: 0.8359\n",
      "Epoch 32: saving model to model/point_history_classifier\\point_history_classifier.hdf5\n",
      "32/32 [==============================] - 0s 2ms/step - loss: 0.6318 - accuracy: 0.8107 - val_loss: 0.4559 - val_accuracy: 0.9517\n",
      "Epoch 33/1000\n",
      " 1/32 [..............................] - ETA: 0s - loss: 0.6018 - accuracy: 0.8438\n",
      "Epoch 33: saving model to model/point_history_classifier\\point_history_classifier.hdf5\n",
      "32/32 [==============================] - 0s 2ms/step - loss: 0.6286 - accuracy: 0.8082 - val_loss: 0.4463 - val_accuracy: 0.9524\n",
      "Epoch 34/1000\n",
      " 1/32 [..............................] - ETA: 0s - loss: 0.7304 - accuracy: 0.7812\n",
      "Epoch 34: saving model to model/point_history_classifier\\point_history_classifier.hdf5\n",
      "32/32 [==============================] - 0s 2ms/step - loss: 0.6150 - accuracy: 0.8192 - val_loss: 0.4373 - val_accuracy: 0.9517\n",
      "Epoch 35/1000\n",
      " 1/32 [..............................] - ETA: 0s - loss: 0.5854 - accuracy: 0.8281\n",
      "Epoch 35: saving model to model/point_history_classifier\\point_history_classifier.hdf5\n",
      "32/32 [==============================] - 0s 2ms/step - loss: 0.6167 - accuracy: 0.8066 - val_loss: 0.4287 - val_accuracy: 0.9532\n",
      "Epoch 36/1000\n",
      " 1/32 [..............................] - ETA: 0s - loss: 0.6240 - accuracy: 0.7891\n",
      "Epoch 36: saving model to model/point_history_classifier\\point_history_classifier.hdf5\n",
      "32/32 [==============================] - 0s 2ms/step - loss: 0.6202 - accuracy: 0.8155 - val_loss: 0.4211 - val_accuracy: 0.9554\n",
      "Epoch 37/1000\n",
      " 1/32 [..............................] - ETA: 0s - loss: 0.5278 - accuracy: 0.8438\n",
      "Epoch 37: saving model to model/point_history_classifier\\point_history_classifier.hdf5\n",
      "32/32 [==============================] - 0s 2ms/step - loss: 0.5924 - accuracy: 0.8200 - val_loss: 0.4111 - val_accuracy: 0.9539\n",
      "Epoch 38/1000\n",
      " 1/32 [..............................] - ETA: 0s - loss: 0.5636 - accuracy: 0.8203\n",
      "Epoch 38: saving model to model/point_history_classifier\\point_history_classifier.hdf5\n",
      "32/32 [==============================] - 0s 2ms/step - loss: 0.5967 - accuracy: 0.8147 - val_loss: 0.4053 - val_accuracy: 0.9554\n",
      "Epoch 39/1000\n",
      " 1/32 [..............................] - ETA: 0s - loss: 0.5767 - accuracy: 0.8203\n",
      "Epoch 39: saving model to model/point_history_classifier\\point_history_classifier.hdf5\n",
      "32/32 [==============================] - 0s 2ms/step - loss: 0.5724 - accuracy: 0.8293 - val_loss: 0.3978 - val_accuracy: 0.9569\n",
      "Epoch 40/1000\n",
      " 1/32 [..............................] - ETA: 0s - loss: 0.5951 - accuracy: 0.8203\n",
      "Epoch 40: saving model to model/point_history_classifier\\point_history_classifier.hdf5\n",
      "32/32 [==============================] - 0s 2ms/step - loss: 0.5940 - accuracy: 0.8157 - val_loss: 0.3934 - val_accuracy: 0.9562\n",
      "Epoch 41/1000\n",
      " 1/32 [..............................] - ETA: 0s - loss: 0.5885 - accuracy: 0.8203\n",
      "Epoch 41: saving model to model/point_history_classifier\\point_history_classifier.hdf5\n",
      "32/32 [==============================] - 0s 2ms/step - loss: 0.5982 - accuracy: 0.8134 - val_loss: 0.3912 - val_accuracy: 0.9577\n",
      "Epoch 42/1000\n",
      " 1/32 [..............................] - ETA: 0s - loss: 0.6211 - accuracy: 0.8203\n",
      "Epoch 42: saving model to model/point_history_classifier\\point_history_classifier.hdf5\n",
      "32/32 [==============================] - 0s 2ms/step - loss: 0.5812 - accuracy: 0.8248 - val_loss: 0.3832 - val_accuracy: 0.9562\n",
      "Epoch 43/1000\n",
      " 1/32 [..............................] - ETA: 0s - loss: 0.4506 - accuracy: 0.8906\n",
      "Epoch 43: saving model to model/point_history_classifier\\point_history_classifier.hdf5\n",
      "32/32 [==============================] - 0s 2ms/step - loss: 0.5571 - accuracy: 0.8323 - val_loss: 0.3783 - val_accuracy: 0.9569\n",
      "Epoch 44/1000\n",
      " 1/32 [..............................] - ETA: 0s - loss: 0.7027 - accuracy: 0.7344\n",
      "Epoch 44: saving model to model/point_history_classifier\\point_history_classifier.hdf5\n",
      "32/32 [==============================] - 0s 2ms/step - loss: 0.5728 - accuracy: 0.8197 - val_loss: 0.3703 - val_accuracy: 0.9592\n",
      "Epoch 45/1000\n",
      " 1/32 [..............................] - ETA: 0s - loss: 0.4600 - accuracy: 0.8828\n",
      "Epoch 45: saving model to model/point_history_classifier\\point_history_classifier.hdf5\n",
      "32/32 [==============================] - 0s 2ms/step - loss: 0.5672 - accuracy: 0.8260 - val_loss: 0.3670 - val_accuracy: 0.9600\n",
      "Epoch 46/1000\n",
      " 1/32 [..............................] - ETA: 0s - loss: 0.5095 - accuracy: 0.8438\n",
      "Epoch 46: saving model to model/point_history_classifier\\point_history_classifier.hdf5\n",
      "32/32 [==============================] - 0s 2ms/step - loss: 0.5430 - accuracy: 0.8303 - val_loss: 0.3604 - val_accuracy: 0.9569\n",
      "Epoch 47/1000\n",
      " 1/32 [..............................] - ETA: 0s - loss: 0.4909 - accuracy: 0.8281\n",
      "Epoch 47: saving model to model/point_history_classifier\\point_history_classifier.hdf5\n",
      "32/32 [==============================] - 0s 2ms/step - loss: 0.5289 - accuracy: 0.8364 - val_loss: 0.3543 - val_accuracy: 0.9585\n",
      "Epoch 48/1000\n",
      " 1/32 [..............................] - ETA: 0s - loss: 0.4320 - accuracy: 0.8906\n",
      "Epoch 48: saving model to model/point_history_classifier\\point_history_classifier.hdf5\n",
      "32/32 [==============================] - 0s 2ms/step - loss: 0.5527 - accuracy: 0.8177 - val_loss: 0.3516 - val_accuracy: 0.9585\n",
      "Epoch 49/1000\n",
      " 1/32 [..............................] - ETA: 0s - loss: 0.5428 - accuracy: 0.8281\n",
      "Epoch 49: saving model to model/point_history_classifier\\point_history_classifier.hdf5\n",
      "32/32 [==============================] - 0s 2ms/step - loss: 0.5316 - accuracy: 0.8306 - val_loss: 0.3471 - val_accuracy: 0.9600\n",
      "Epoch 50/1000\n",
      " 1/32 [..............................] - ETA: 0s - loss: 0.6409 - accuracy: 0.7578\n",
      "Epoch 50: saving model to model/point_history_classifier\\point_history_classifier.hdf5\n",
      "32/32 [==============================] - 0s 2ms/step - loss: 0.5371 - accuracy: 0.8285 - val_loss: 0.3428 - val_accuracy: 0.9600\n",
      "Epoch 51/1000\n",
      " 1/32 [..............................] - ETA: 0s - loss: 0.5632 - accuracy: 0.8516\n",
      "Epoch 51: saving model to model/point_history_classifier\\point_history_classifier.hdf5\n",
      "32/32 [==============================] - 0s 2ms/step - loss: 0.5339 - accuracy: 0.8303 - val_loss: 0.3379 - val_accuracy: 0.9592\n",
      "Epoch 52/1000\n",
      " 1/32 [..............................] - ETA: 0s - loss: 0.4721 - accuracy: 0.8281\n",
      "Epoch 52: saving model to model/point_history_classifier\\point_history_classifier.hdf5\n",
      "32/32 [==============================] - 0s 2ms/step - loss: 0.5264 - accuracy: 0.8326 - val_loss: 0.3331 - val_accuracy: 0.9600\n",
      "Epoch 53/1000\n",
      " 1/32 [..............................] - ETA: 0s - loss: 0.4848 - accuracy: 0.8516\n",
      "Epoch 53: saving model to model/point_history_classifier\\point_history_classifier.hdf5\n",
      "32/32 [==============================] - 0s 2ms/step - loss: 0.5218 - accuracy: 0.8366 - val_loss: 0.3306 - val_accuracy: 0.9600\n",
      "Epoch 54/1000\n",
      " 1/32 [..............................] - ETA: 0s - loss: 0.5084 - accuracy: 0.8516\n",
      "Epoch 54: saving model to model/point_history_classifier\\point_history_classifier.hdf5\n",
      "32/32 [==============================] - 0s 2ms/step - loss: 0.5362 - accuracy: 0.8303 - val_loss: 0.3301 - val_accuracy: 0.9615\n",
      "Epoch 55/1000\n",
      " 1/32 [..............................] - ETA: 0s - loss: 0.5392 - accuracy: 0.8438\n",
      "Epoch 55: saving model to model/point_history_classifier\\point_history_classifier.hdf5\n",
      "32/32 [==============================] - 0s 2ms/step - loss: 0.5344 - accuracy: 0.8326 - val_loss: 0.3271 - val_accuracy: 0.9622\n",
      "Epoch 56/1000\n",
      " 1/32 [..............................] - ETA: 0s - loss: 0.5597 - accuracy: 0.8594\n",
      "Epoch 56: saving model to model/point_history_classifier\\point_history_classifier.hdf5\n",
      "32/32 [==============================] - 0s 2ms/step - loss: 0.5095 - accuracy: 0.8346 - val_loss: 0.3235 - val_accuracy: 0.9622\n",
      "Epoch 57/1000\n",
      " 1/32 [..............................] - ETA: 0s - loss: 0.5019 - accuracy: 0.8438\n",
      "Epoch 57: saving model to model/point_history_classifier\\point_history_classifier.hdf5\n",
      "32/32 [==============================] - 0s 2ms/step - loss: 0.5085 - accuracy: 0.8253 - val_loss: 0.3191 - val_accuracy: 0.9607\n",
      "Epoch 58/1000\n",
      " 1/32 [..............................] - ETA: 0s - loss: 0.5673 - accuracy: 0.7891\n",
      "Epoch 58: saving model to model/point_history_classifier\\point_history_classifier.hdf5\n",
      "32/32 [==============================] - 0s 2ms/step - loss: 0.5205 - accuracy: 0.8331 - val_loss: 0.3169 - val_accuracy: 0.9607\n",
      "Epoch 59/1000\n",
      " 1/32 [..............................] - ETA: 0s - loss: 0.5496 - accuracy: 0.8047\n",
      "Epoch 59: saving model to model/point_history_classifier\\point_history_classifier.hdf5\n",
      "32/32 [==============================] - 0s 2ms/step - loss: 0.5240 - accuracy: 0.8240 - val_loss: 0.3147 - val_accuracy: 0.9630\n",
      "Epoch 60/1000\n",
      " 1/32 [..............................] - ETA: 0s - loss: 0.4687 - accuracy: 0.8438\n",
      "Epoch 60: saving model to model/point_history_classifier\\point_history_classifier.hdf5\n",
      "32/32 [==============================] - 0s 2ms/step - loss: 0.5002 - accuracy: 0.8406 - val_loss: 0.3092 - val_accuracy: 0.9622\n",
      "Epoch 61/1000\n",
      " 1/32 [..............................] - ETA: 0s - loss: 0.4220 - accuracy: 0.8750\n",
      "Epoch 61: saving model to model/point_history_classifier\\point_history_classifier.hdf5\n",
      "32/32 [==============================] - 0s 2ms/step - loss: 0.4947 - accuracy: 0.8419 - val_loss: 0.3082 - val_accuracy: 0.9607\n",
      "Epoch 62/1000\n",
      " 1/32 [..............................] - ETA: 0s - loss: 0.5243 - accuracy: 0.8047\n",
      "Epoch 62: saving model to model/point_history_classifier\\point_history_classifier.hdf5\n",
      "32/32 [==============================] - 0s 2ms/step - loss: 0.5290 - accuracy: 0.8331 - val_loss: 0.3079 - val_accuracy: 0.9615\n",
      "Epoch 63/1000\n",
      " 1/32 [..............................] - ETA: 0s - loss: 0.5669 - accuracy: 0.8047\n",
      "Epoch 63: saving model to model/point_history_classifier\\point_history_classifier.hdf5\n",
      "32/32 [==============================] - 0s 2ms/step - loss: 0.5192 - accuracy: 0.8265 - val_loss: 0.3034 - val_accuracy: 0.9607\n",
      "Epoch 64/1000\n",
      " 1/32 [..............................] - ETA: 0s - loss: 0.5490 - accuracy: 0.8281\n",
      "Epoch 64: saving model to model/point_history_classifier\\point_history_classifier.hdf5\n",
      "32/32 [==============================] - 0s 2ms/step - loss: 0.4960 - accuracy: 0.8348 - val_loss: 0.3004 - val_accuracy: 0.9607\n",
      "Epoch 65/1000\n",
      " 1/32 [..............................] - ETA: 0s - loss: 0.6291 - accuracy: 0.8047\n",
      "Epoch 65: saving model to model/point_history_classifier\\point_history_classifier.hdf5\n",
      "32/32 [==============================] - 0s 2ms/step - loss: 0.4958 - accuracy: 0.8364 - val_loss: 0.2972 - val_accuracy: 0.9637\n",
      "Epoch 66/1000\n",
      " 1/32 [..............................] - ETA: 0s - loss: 0.5013 - accuracy: 0.8516\n",
      "Epoch 66: saving model to model/point_history_classifier\\point_history_classifier.hdf5\n",
      "32/32 [==============================] - 0s 2ms/step - loss: 0.4926 - accuracy: 0.8404 - val_loss: 0.2934 - val_accuracy: 0.9622\n",
      "Epoch 67/1000\n",
      " 1/32 [..............................] - ETA: 0s - loss: 0.5741 - accuracy: 0.8125\n",
      "Epoch 67: saving model to model/point_history_classifier\\point_history_classifier.hdf5\n",
      "32/32 [==============================] - 0s 2ms/step - loss: 0.5026 - accuracy: 0.8384 - val_loss: 0.2917 - val_accuracy: 0.9622\n",
      "Epoch 68/1000\n",
      " 1/32 [..............................] - ETA: 0s - loss: 0.5096 - accuracy: 0.8047\n",
      "Epoch 68: saving model to model/point_history_classifier\\point_history_classifier.hdf5\n",
      "32/32 [==============================] - 0s 2ms/step - loss: 0.4994 - accuracy: 0.8296 - val_loss: 0.2904 - val_accuracy: 0.9615\n",
      "Epoch 69/1000\n",
      " 1/32 [..............................] - ETA: 0s - loss: 0.4305 - accuracy: 0.8281\n",
      "Epoch 69: saving model to model/point_history_classifier\\point_history_classifier.hdf5\n",
      "32/32 [==============================] - 0s 2ms/step - loss: 0.4897 - accuracy: 0.8399 - val_loss: 0.2884 - val_accuracy: 0.9615\n",
      "Epoch 70/1000\n",
      " 1/32 [..............................] - ETA: 0s - loss: 0.3948 - accuracy: 0.8750\n",
      "Epoch 70: saving model to model/point_history_classifier\\point_history_classifier.hdf5\n",
      "32/32 [==============================] - 0s 2ms/step - loss: 0.4751 - accuracy: 0.8404 - val_loss: 0.2855 - val_accuracy: 0.9600\n",
      "Epoch 71/1000\n",
      " 1/32 [..............................] - ETA: 0s - loss: 0.4103 - accuracy: 0.8359\n",
      "Epoch 71: saving model to model/point_history_classifier\\point_history_classifier.hdf5\n",
      "32/32 [==============================] - 0s 2ms/step - loss: 0.4926 - accuracy: 0.8429 - val_loss: 0.2860 - val_accuracy: 0.9600\n",
      "Epoch 72/1000\n",
      " 1/32 [..............................] - ETA: 0s - loss: 0.7945 - accuracy: 0.7578\n",
      "Epoch 72: saving model to model/point_history_classifier\\point_history_classifier.hdf5\n",
      "32/32 [==============================] - 0s 2ms/step - loss: 0.4917 - accuracy: 0.8346 - val_loss: 0.2866 - val_accuracy: 0.9615\n",
      "Epoch 73/1000\n",
      " 1/32 [..............................] - ETA: 0s - loss: 0.3919 - accuracy: 0.8828\n",
      "Epoch 73: saving model to model/point_history_classifier\\point_history_classifier.hdf5\n",
      "32/32 [==============================] - 0s 2ms/step - loss: 0.4958 - accuracy: 0.8333 - val_loss: 0.2872 - val_accuracy: 0.9607\n",
      "Epoch 74/1000\n",
      " 1/32 [..............................] - ETA: 0s - loss: 0.4327 - accuracy: 0.8438\n",
      "Epoch 74: saving model to model/point_history_classifier\\point_history_classifier.hdf5\n",
      "32/32 [==============================] - 0s 2ms/step - loss: 0.4875 - accuracy: 0.8379 - val_loss: 0.2822 - val_accuracy: 0.9637\n",
      "Epoch 75/1000\n",
      " 1/32 [..............................] - ETA: 0s - loss: 0.5134 - accuracy: 0.8672\n",
      "Epoch 75: saving model to model/point_history_classifier\\point_history_classifier.hdf5\n",
      "32/32 [==============================] - 0s 2ms/step - loss: 0.4929 - accuracy: 0.8381 - val_loss: 0.2822 - val_accuracy: 0.9592\n",
      "Epoch 76/1000\n",
      " 1/32 [..............................] - ETA: 0s - loss: 0.5135 - accuracy: 0.8203\n",
      "Epoch 76: saving model to model/point_history_classifier\\point_history_classifier.hdf5\n",
      "32/32 [==============================] - 0s 2ms/step - loss: 0.5061 - accuracy: 0.8326 - val_loss: 0.2827 - val_accuracy: 0.9622\n",
      "Epoch 77/1000\n",
      " 1/32 [..............................] - ETA: 0s - loss: 0.4574 - accuracy: 0.8359\n",
      "Epoch 77: saving model to model/point_history_classifier\\point_history_classifier.hdf5\n",
      "32/32 [==============================] - 0s 2ms/step - loss: 0.4784 - accuracy: 0.8361 - val_loss: 0.2812 - val_accuracy: 0.9637\n",
      "Epoch 78/1000\n",
      " 1/32 [..............................] - ETA: 0s - loss: 0.3940 - accuracy: 0.8516\n",
      "Epoch 78: saving model to model/point_history_classifier\\point_history_classifier.hdf5\n",
      "32/32 [==============================] - 0s 2ms/step - loss: 0.5014 - accuracy: 0.8326 - val_loss: 0.2789 - val_accuracy: 0.9653\n",
      "Epoch 79/1000\n",
      " 1/32 [..............................] - ETA: 0s - loss: 0.5188 - accuracy: 0.8438\n",
      "Epoch 79: saving model to model/point_history_classifier\\point_history_classifier.hdf5\n",
      "32/32 [==============================] - 0s 2ms/step - loss: 0.4806 - accuracy: 0.8348 - val_loss: 0.2770 - val_accuracy: 0.9637\n",
      "Epoch 80/1000\n",
      " 1/32 [..............................] - ETA: 0s - loss: 0.5165 - accuracy: 0.7812\n",
      "Epoch 80: saving model to model/point_history_classifier\\point_history_classifier.hdf5\n",
      "32/32 [==============================] - 0s 2ms/step - loss: 0.4967 - accuracy: 0.8353 - val_loss: 0.2755 - val_accuracy: 0.9615\n",
      "Epoch 81/1000\n",
      " 1/32 [..............................] - ETA: 0s - loss: 0.4896 - accuracy: 0.8359\n",
      "Epoch 81: saving model to model/point_history_classifier\\point_history_classifier.hdf5\n",
      "32/32 [==============================] - 0s 2ms/step - loss: 0.4744 - accuracy: 0.8414 - val_loss: 0.2765 - val_accuracy: 0.9645\n",
      "Epoch 82/1000\n",
      " 1/32 [..............................] - ETA: 0s - loss: 0.4373 - accuracy: 0.8438\n",
      "Epoch 82: saving model to model/point_history_classifier\\point_history_classifier.hdf5\n",
      "32/32 [==============================] - 0s 2ms/step - loss: 0.4822 - accuracy: 0.8346 - val_loss: 0.2729 - val_accuracy: 0.9637\n",
      "Epoch 83/1000\n",
      " 1/32 [..............................] - ETA: 0s - loss: 0.4556 - accuracy: 0.8359\n",
      "Epoch 83: saving model to model/point_history_classifier\\point_history_classifier.hdf5\n",
      "32/32 [==============================] - 0s 2ms/step - loss: 0.4782 - accuracy: 0.8369 - val_loss: 0.2703 - val_accuracy: 0.9637\n",
      "Epoch 84/1000\n",
      " 1/32 [..............................] - ETA: 0s - loss: 0.5169 - accuracy: 0.8047\n",
      "Epoch 84: saving model to model/point_history_classifier\\point_history_classifier.hdf5\n",
      "32/32 [==============================] - 0s 2ms/step - loss: 0.4793 - accuracy: 0.8384 - val_loss: 0.2690 - val_accuracy: 0.9637\n",
      "Epoch 85/1000\n",
      " 1/32 [..............................] - ETA: 0s - loss: 0.4335 - accuracy: 0.8359\n",
      "Epoch 85: saving model to model/point_history_classifier\\point_history_classifier.hdf5\n",
      "32/32 [==============================] - 0s 2ms/step - loss: 0.4868 - accuracy: 0.8386 - val_loss: 0.2725 - val_accuracy: 0.9645\n",
      "Epoch 86/1000\n",
      " 1/32 [..............................] - ETA: 0s - loss: 0.5260 - accuracy: 0.8125\n",
      "Epoch 86: saving model to model/point_history_classifier\\point_history_classifier.hdf5\n",
      "32/32 [==============================] - 0s 2ms/step - loss: 0.4736 - accuracy: 0.8399 - val_loss: 0.2731 - val_accuracy: 0.9615\n",
      "Epoch 87/1000\n",
      " 1/32 [..............................] - ETA: 0s - loss: 0.4924 - accuracy: 0.8438\n",
      "Epoch 87: saving model to model/point_history_classifier\\point_history_classifier.hdf5\n",
      "32/32 [==============================] - 0s 2ms/step - loss: 0.4690 - accuracy: 0.8454 - val_loss: 0.2698 - val_accuracy: 0.9645\n",
      "Epoch 88/1000\n",
      " 1/32 [..............................] - ETA: 0s - loss: 0.4261 - accuracy: 0.8594\n",
      "Epoch 88: saving model to model/point_history_classifier\\point_history_classifier.hdf5\n",
      "32/32 [==============================] - 0s 2ms/step - loss: 0.4726 - accuracy: 0.8442 - val_loss: 0.2660 - val_accuracy: 0.9637\n",
      "Epoch 89/1000\n",
      " 1/32 [..............................] - ETA: 0s - loss: 0.4527 - accuracy: 0.8828\n",
      "Epoch 89: saving model to model/point_history_classifier\\point_history_classifier.hdf5\n",
      "32/32 [==============================] - 0s 2ms/step - loss: 0.4644 - accuracy: 0.8379 - val_loss: 0.2669 - val_accuracy: 0.9660\n",
      "Epoch 90/1000\n",
      " 1/32 [..............................] - ETA: 0s - loss: 0.3702 - accuracy: 0.8750\n",
      "Epoch 90: saving model to model/point_history_classifier\\point_history_classifier.hdf5\n",
      "32/32 [==============================] - 0s 2ms/step - loss: 0.4953 - accuracy: 0.8341 - val_loss: 0.2686 - val_accuracy: 0.9637\n",
      "Epoch 91/1000\n",
      " 1/32 [..............................] - ETA: 0s - loss: 0.4402 - accuracy: 0.8828\n",
      "Epoch 91: saving model to model/point_history_classifier\\point_history_classifier.hdf5\n",
      "32/32 [==============================] - 0s 2ms/step - loss: 0.4649 - accuracy: 0.8452 - val_loss: 0.2651 - val_accuracy: 0.9615\n",
      "Epoch 92/1000\n",
      " 1/32 [..............................] - ETA: 0s - loss: 0.4831 - accuracy: 0.8516\n",
      "Epoch 92: saving model to model/point_history_classifier\\point_history_classifier.hdf5\n",
      "32/32 [==============================] - 0s 2ms/step - loss: 0.4601 - accuracy: 0.8437 - val_loss: 0.2627 - val_accuracy: 0.9630\n",
      "Epoch 93/1000\n",
      " 1/32 [..............................] - ETA: 0s - loss: 0.4767 - accuracy: 0.8281\n",
      "Epoch 93: saving model to model/point_history_classifier\\point_history_classifier.hdf5\n",
      "32/32 [==============================] - 0s 2ms/step - loss: 0.4961 - accuracy: 0.8343 - val_loss: 0.2632 - val_accuracy: 0.9622\n",
      "Epoch 94/1000\n",
      " 1/32 [..............................] - ETA: 0s - loss: 0.7022 - accuracy: 0.8203\n",
      "Epoch 94: saving model to model/point_history_classifier\\point_history_classifier.hdf5\n",
      "32/32 [==============================] - 0s 2ms/step - loss: 0.4563 - accuracy: 0.8467 - val_loss: 0.2610 - val_accuracy: 0.9607\n",
      "Epoch 95/1000\n",
      " 1/32 [..............................] - ETA: 0s - loss: 0.5759 - accuracy: 0.7656\n",
      "Epoch 95: saving model to model/point_history_classifier\\point_history_classifier.hdf5\n",
      "32/32 [==============================] - 0s 2ms/step - loss: 0.4738 - accuracy: 0.8379 - val_loss: 0.2631 - val_accuracy: 0.9630\n",
      "Epoch 96/1000\n",
      " 1/32 [..............................] - ETA: 0s - loss: 0.5478 - accuracy: 0.7812\n",
      "Epoch 96: saving model to model/point_history_classifier\\point_history_classifier.hdf5\n",
      "32/32 [==============================] - 0s 2ms/step - loss: 0.4780 - accuracy: 0.8333 - val_loss: 0.2630 - val_accuracy: 0.9637\n",
      "Epoch 97/1000\n",
      " 1/32 [..............................] - ETA: 0s - loss: 0.7141 - accuracy: 0.8672\n",
      "Epoch 97: saving model to model/point_history_classifier\\point_history_classifier.hdf5\n",
      "32/32 [==============================] - 0s 2ms/step - loss: 0.4688 - accuracy: 0.8394 - val_loss: 0.2606 - val_accuracy: 0.9622\n",
      "Epoch 98/1000\n",
      " 1/32 [..............................] - ETA: 0s - loss: 0.3236 - accuracy: 0.9062\n",
      "Epoch 98: saving model to model/point_history_classifier\\point_history_classifier.hdf5\n",
      "32/32 [==============================] - 0s 2ms/step - loss: 0.4660 - accuracy: 0.8401 - val_loss: 0.2585 - val_accuracy: 0.9585\n",
      "Epoch 99/1000\n",
      " 1/32 [..............................] - ETA: 0s - loss: 0.6163 - accuracy: 0.7891\n",
      "Epoch 99: saving model to model/point_history_classifier\\point_history_classifier.hdf5\n",
      "32/32 [==============================] - 0s 2ms/step - loss: 0.4530 - accuracy: 0.8394 - val_loss: 0.2603 - val_accuracy: 0.9585\n",
      "Epoch 100/1000\n",
      " 1/32 [..............................] - ETA: 0s - loss: 0.5095 - accuracy: 0.8281\n",
      "Epoch 100: saving model to model/point_history_classifier\\point_history_classifier.hdf5\n",
      "32/32 [==============================] - 0s 2ms/step - loss: 0.4540 - accuracy: 0.8454 - val_loss: 0.2572 - val_accuracy: 0.9607\n",
      "Epoch 101/1000\n",
      " 1/32 [..............................] - ETA: 0s - loss: 0.4277 - accuracy: 0.8750\n",
      "Epoch 101: saving model to model/point_history_classifier\\point_history_classifier.hdf5\n",
      "32/32 [==============================] - 0s 2ms/step - loss: 0.4614 - accuracy: 0.8421 - val_loss: 0.2560 - val_accuracy: 0.9600\n",
      "Epoch 102/1000\n",
      " 1/32 [..............................] - ETA: 0s - loss: 0.4163 - accuracy: 0.8984\n",
      "Epoch 102: saving model to model/point_history_classifier\\point_history_classifier.hdf5\n",
      "32/32 [==============================] - 0s 2ms/step - loss: 0.4638 - accuracy: 0.8346 - val_loss: 0.2563 - val_accuracy: 0.9600\n",
      "Epoch 103/1000\n",
      " 1/32 [..............................] - ETA: 0s - loss: 0.4693 - accuracy: 0.8203\n",
      "Epoch 103: saving model to model/point_history_classifier\\point_history_classifier.hdf5\n",
      "32/32 [==============================] - 0s 2ms/step - loss: 0.4713 - accuracy: 0.8409 - val_loss: 0.2574 - val_accuracy: 0.9622\n",
      "Epoch 104/1000\n",
      " 1/32 [..............................] - ETA: 0s - loss: 0.4824 - accuracy: 0.8359\n",
      "Epoch 104: saving model to model/point_history_classifier\\point_history_classifier.hdf5\n",
      "32/32 [==============================] - 0s 2ms/step - loss: 0.4693 - accuracy: 0.8401 - val_loss: 0.2549 - val_accuracy: 0.9622\n",
      "Epoch 105/1000\n",
      " 1/32 [..............................] - ETA: 0s - loss: 0.4175 - accuracy: 0.8516\n",
      "Epoch 105: saving model to model/point_history_classifier\\point_history_classifier.hdf5\n",
      "32/32 [==============================] - 0s 2ms/step - loss: 0.4655 - accuracy: 0.8411 - val_loss: 0.2547 - val_accuracy: 0.9615\n",
      "Epoch 106/1000\n",
      " 1/32 [..............................] - ETA: 0s - loss: 0.4983 - accuracy: 0.8281\n",
      "Epoch 106: saving model to model/point_history_classifier\\point_history_classifier.hdf5\n",
      "32/32 [==============================] - 0s 2ms/step - loss: 0.4516 - accuracy: 0.8454 - val_loss: 0.2535 - val_accuracy: 0.9607\n",
      "Epoch 107/1000\n",
      " 1/32 [..............................] - ETA: 0s - loss: 0.4614 - accuracy: 0.8438\n",
      "Epoch 107: saving model to model/point_history_classifier\\point_history_classifier.hdf5\n",
      "32/32 [==============================] - 0s 2ms/step - loss: 0.4574 - accuracy: 0.8396 - val_loss: 0.2538 - val_accuracy: 0.9630\n",
      "Epoch 108/1000\n",
      " 1/32 [..............................] - ETA: 0s - loss: 0.3794 - accuracy: 0.8828\n",
      "Epoch 108: saving model to model/point_history_classifier\\point_history_classifier.hdf5\n",
      "32/32 [==============================] - 0s 2ms/step - loss: 0.4664 - accuracy: 0.8454 - val_loss: 0.2542 - val_accuracy: 0.9637\n",
      "Epoch 109/1000\n",
      " 1/32 [..............................] - ETA: 0s - loss: 0.5101 - accuracy: 0.7891\n",
      "Epoch 109: saving model to model/point_history_classifier\\point_history_classifier.hdf5\n",
      "32/32 [==============================] - 0s 2ms/step - loss: 0.4559 - accuracy: 0.8472 - val_loss: 0.2551 - val_accuracy: 0.9592\n",
      "Epoch 110/1000\n",
      " 1/32 [..............................] - ETA: 0s - loss: 0.4146 - accuracy: 0.8359\n",
      "Epoch 110: saving model to model/point_history_classifier\\point_history_classifier.hdf5\n",
      "32/32 [==============================] - 0s 2ms/step - loss: 0.4413 - accuracy: 0.8444 - val_loss: 0.2541 - val_accuracy: 0.9607\n",
      "Epoch 111/1000\n",
      " 1/32 [..............................] - ETA: 0s - loss: 0.4252 - accuracy: 0.8672\n",
      "Epoch 111: saving model to model/point_history_classifier\\point_history_classifier.hdf5\n",
      "32/32 [==============================] - 0s 2ms/step - loss: 0.4477 - accuracy: 0.8487 - val_loss: 0.2522 - val_accuracy: 0.9622\n",
      "Epoch 112/1000\n",
      " 1/32 [..............................] - ETA: 0s - loss: 0.4303 - accuracy: 0.8359\n",
      "Epoch 112: saving model to model/point_history_classifier\\point_history_classifier.hdf5\n",
      "32/32 [==============================] - 0s 2ms/step - loss: 0.4451 - accuracy: 0.8469 - val_loss: 0.2514 - val_accuracy: 0.9615\n",
      "Epoch 113/1000\n",
      " 1/32 [..............................] - ETA: 0s - loss: 0.4560 - accuracy: 0.8438\n",
      "Epoch 113: saving model to model/point_history_classifier\\point_history_classifier.hdf5\n",
      "32/32 [==============================] - 0s 2ms/step - loss: 0.4638 - accuracy: 0.8487 - val_loss: 0.2495 - val_accuracy: 0.9622\n",
      "Epoch 114/1000\n",
      " 1/32 [..............................] - ETA: 0s - loss: 0.4739 - accuracy: 0.8438\n",
      "Epoch 114: saving model to model/point_history_classifier\\point_history_classifier.hdf5\n",
      "32/32 [==============================] - 0s 2ms/step - loss: 0.4479 - accuracy: 0.8487 - val_loss: 0.2509 - val_accuracy: 0.9637\n",
      "Epoch 115/1000\n",
      " 1/32 [..............................] - ETA: 0s - loss: 0.3773 - accuracy: 0.8750\n",
      "Epoch 115: saving model to model/point_history_classifier\\point_history_classifier.hdf5\n",
      "32/32 [==============================] - 0s 2ms/step - loss: 0.4698 - accuracy: 0.8419 - val_loss: 0.2487 - val_accuracy: 0.9630\n",
      "Epoch 116/1000\n",
      " 1/32 [..............................] - ETA: 0s - loss: 0.5532 - accuracy: 0.8047\n",
      "Epoch 116: saving model to model/point_history_classifier\\point_history_classifier.hdf5\n",
      "32/32 [==============================] - 0s 2ms/step - loss: 0.4418 - accuracy: 0.8489 - val_loss: 0.2475 - val_accuracy: 0.9630\n",
      "Epoch 117/1000\n",
      " 1/32 [..............................] - ETA: 0s - loss: 0.5866 - accuracy: 0.8281\n",
      "Epoch 117: saving model to model/point_history_classifier\\point_history_classifier.hdf5\n",
      "32/32 [==============================] - 0s 2ms/step - loss: 0.4593 - accuracy: 0.8467 - val_loss: 0.2500 - val_accuracy: 0.9645\n",
      "Epoch 118/1000\n",
      " 1/32 [..............................] - ETA: 0s - loss: 0.4782 - accuracy: 0.8359\n",
      "Epoch 118: saving model to model/point_history_classifier\\point_history_classifier.hdf5\n",
      "32/32 [==============================] - 0s 2ms/step - loss: 0.4436 - accuracy: 0.8484 - val_loss: 0.2502 - val_accuracy: 0.9645\n",
      "Epoch 119/1000\n",
      " 1/32 [..............................] - ETA: 0s - loss: 0.3895 - accuracy: 0.8750\n",
      "Epoch 119: saving model to model/point_history_classifier\\point_history_classifier.hdf5\n",
      "32/32 [==============================] - 0s 2ms/step - loss: 0.4509 - accuracy: 0.8489 - val_loss: 0.2480 - val_accuracy: 0.9622\n",
      "Epoch 120/1000\n",
      " 1/32 [..............................] - ETA: 0s - loss: 0.3831 - accuracy: 0.8594\n",
      "Epoch 120: saving model to model/point_history_classifier\\point_history_classifier.hdf5\n",
      "32/32 [==============================] - 0s 2ms/step - loss: 0.4515 - accuracy: 0.8454 - val_loss: 0.2462 - val_accuracy: 0.9645\n",
      "Epoch 121/1000\n",
      " 1/32 [..............................] - ETA: 0s - loss: 0.4349 - accuracy: 0.8438\n",
      "Epoch 121: saving model to model/point_history_classifier\\point_history_classifier.hdf5\n",
      "32/32 [==============================] - 0s 2ms/step - loss: 0.4468 - accuracy: 0.8505 - val_loss: 0.2472 - val_accuracy: 0.9645\n",
      "Epoch 122/1000\n",
      " 1/32 [..............................] - ETA: 0s - loss: 0.5476 - accuracy: 0.7578\n",
      "Epoch 122: saving model to model/point_history_classifier\\point_history_classifier.hdf5\n",
      "32/32 [==============================] - 0s 2ms/step - loss: 0.4566 - accuracy: 0.8341 - val_loss: 0.2479 - val_accuracy: 0.9630\n",
      "Epoch 123/1000\n",
      " 1/32 [..............................] - ETA: 0s - loss: 0.4231 - accuracy: 0.8672\n",
      "Epoch 123: saving model to model/point_history_classifier\\point_history_classifier.hdf5\n",
      "32/32 [==============================] - 0s 2ms/step - loss: 0.4406 - accuracy: 0.8540 - val_loss: 0.2458 - val_accuracy: 0.9615\n",
      "Epoch 124/1000\n",
      " 1/32 [..............................] - ETA: 0s - loss: 0.4041 - accuracy: 0.8438\n",
      "Epoch 124: saving model to model/point_history_classifier\\point_history_classifier.hdf5\n",
      "32/32 [==============================] - 0s 2ms/step - loss: 0.4361 - accuracy: 0.8469 - val_loss: 0.2457 - val_accuracy: 0.9622\n",
      "Epoch 125/1000\n",
      " 1/32 [..............................] - ETA: 0s - loss: 0.4347 - accuracy: 0.8672\n",
      "Epoch 125: saving model to model/point_history_classifier\\point_history_classifier.hdf5\n",
      "32/32 [==============================] - 0s 2ms/step - loss: 0.4557 - accuracy: 0.8459 - val_loss: 0.2454 - val_accuracy: 0.9645\n",
      "Epoch 126/1000\n",
      " 1/32 [..............................] - ETA: 0s - loss: 0.3835 - accuracy: 0.8594\n",
      "Epoch 126: saving model to model/point_history_classifier\\point_history_classifier.hdf5\n",
      "32/32 [==============================] - 0s 2ms/step - loss: 0.4599 - accuracy: 0.8409 - val_loss: 0.2434 - val_accuracy: 0.9622\n",
      "Epoch 127/1000\n",
      " 1/32 [..............................] - ETA: 0s - loss: 0.4608 - accuracy: 0.8359\n",
      "Epoch 127: saving model to model/point_history_classifier\\point_history_classifier.hdf5\n",
      "32/32 [==============================] - 0s 2ms/step - loss: 0.4632 - accuracy: 0.8404 - val_loss: 0.2453 - val_accuracy: 0.9622\n",
      "Epoch 128/1000\n",
      " 1/32 [..............................] - ETA: 0s - loss: 0.7954 - accuracy: 0.8203\n",
      "Epoch 128: saving model to model/point_history_classifier\\point_history_classifier.hdf5\n",
      "32/32 [==============================] - 0s 2ms/step - loss: 0.4497 - accuracy: 0.8499 - val_loss: 0.2455 - val_accuracy: 0.9630\n",
      "Epoch 129/1000\n",
      " 1/32 [..............................] - ETA: 0s - loss: 0.3899 - accuracy: 0.8672\n",
      "Epoch 129: saving model to model/point_history_classifier\\point_history_classifier.hdf5\n",
      "32/32 [==============================] - 0s 2ms/step - loss: 0.4548 - accuracy: 0.8406 - val_loss: 0.2444 - val_accuracy: 0.9630\n",
      "Epoch 130/1000\n",
      " 1/32 [..............................] - ETA: 0s - loss: 0.4686 - accuracy: 0.8125\n",
      "Epoch 130: saving model to model/point_history_classifier\\point_history_classifier.hdf5\n",
      "32/32 [==============================] - 0s 2ms/step - loss: 0.4379 - accuracy: 0.8477 - val_loss: 0.2419 - val_accuracy: 0.9622\n",
      "Epoch 131/1000\n",
      " 1/32 [..............................] - ETA: 0s - loss: 0.4107 - accuracy: 0.8594\n",
      "Epoch 131: saving model to model/point_history_classifier\\point_history_classifier.hdf5\n",
      "32/32 [==============================] - 0s 2ms/step - loss: 0.4542 - accuracy: 0.8411 - val_loss: 0.2415 - val_accuracy: 0.9637\n",
      "Epoch 132/1000\n",
      " 1/32 [..............................] - ETA: 0s - loss: 0.4273 - accuracy: 0.8516\n",
      "Epoch 132: saving model to model/point_history_classifier\\point_history_classifier.hdf5\n",
      "32/32 [==============================] - 0s 2ms/step - loss: 0.4307 - accuracy: 0.8479 - val_loss: 0.2406 - val_accuracy: 0.9630\n",
      "Epoch 133/1000\n",
      " 1/32 [..............................] - ETA: 0s - loss: 0.4047 - accuracy: 0.9141\n",
      "Epoch 133: saving model to model/point_history_classifier\\point_history_classifier.hdf5\n",
      "32/32 [==============================] - 0s 2ms/step - loss: 0.4458 - accuracy: 0.8482 - val_loss: 0.2388 - val_accuracy: 0.9607\n",
      "Epoch 134/1000\n",
      " 1/32 [..............................] - ETA: 0s - loss: 0.3692 - accuracy: 0.8750\n",
      "Epoch 134: saving model to model/point_history_classifier\\point_history_classifier.hdf5\n",
      "32/32 [==============================] - 0s 2ms/step - loss: 0.4221 - accuracy: 0.8545 - val_loss: 0.2363 - val_accuracy: 0.9607\n",
      "Epoch 135/1000\n",
      " 1/32 [..............................] - ETA: 0s - loss: 0.4096 - accuracy: 0.8438\n",
      "Epoch 135: saving model to model/point_history_classifier\\point_history_classifier.hdf5\n",
      "32/32 [==============================] - 0s 2ms/step - loss: 0.4418 - accuracy: 0.8442 - val_loss: 0.2392 - val_accuracy: 0.9660\n",
      "Epoch 136/1000\n",
      " 1/32 [..............................] - ETA: 0s - loss: 0.4302 - accuracy: 0.8203\n",
      "Epoch 136: saving model to model/point_history_classifier\\point_history_classifier.hdf5\n",
      "32/32 [==============================] - 0s 2ms/step - loss: 0.4325 - accuracy: 0.8517 - val_loss: 0.2363 - val_accuracy: 0.9645\n",
      "Epoch 137/1000\n",
      " 1/32 [..............................] - ETA: 0s - loss: 0.6036 - accuracy: 0.8047\n",
      "Epoch 137: saving model to model/point_history_classifier\\point_history_classifier.hdf5\n",
      "32/32 [==============================] - 0s 2ms/step - loss: 0.4456 - accuracy: 0.8462 - val_loss: 0.2386 - val_accuracy: 0.9592\n",
      "Epoch 138/1000\n",
      " 1/32 [..............................] - ETA: 0s - loss: 0.4049 - accuracy: 0.8359\n",
      "Epoch 138: saving model to model/point_history_classifier\\point_history_classifier.hdf5\n",
      "32/32 [==============================] - 0s 2ms/step - loss: 0.4311 - accuracy: 0.8469 - val_loss: 0.2383 - val_accuracy: 0.9592\n",
      "Epoch 139/1000\n",
      " 1/32 [..............................] - ETA: 0s - loss: 0.4491 - accuracy: 0.8594\n",
      "Epoch 139: saving model to model/point_history_classifier\\point_history_classifier.hdf5\n",
      "32/32 [==============================] - 0s 2ms/step - loss: 0.4583 - accuracy: 0.8386 - val_loss: 0.2398 - val_accuracy: 0.9645\n",
      "Epoch 140/1000\n",
      " 1/32 [..............................] - ETA: 0s - loss: 0.4826 - accuracy: 0.8516\n",
      "Epoch 140: saving model to model/point_history_classifier\\point_history_classifier.hdf5\n",
      "32/32 [==============================] - 0s 2ms/step - loss: 0.4677 - accuracy: 0.8384 - val_loss: 0.2392 - val_accuracy: 0.9637\n",
      "Epoch 141/1000\n",
      " 1/32 [..............................] - ETA: 0s - loss: 0.4282 - accuracy: 0.8672\n",
      "Epoch 141: saving model to model/point_history_classifier\\point_history_classifier.hdf5\n",
      "32/32 [==============================] - 0s 2ms/step - loss: 0.4528 - accuracy: 0.8467 - val_loss: 0.2395 - val_accuracy: 0.9630\n",
      "Epoch 142/1000\n",
      " 1/32 [..............................] - ETA: 0s - loss: 0.5624 - accuracy: 0.7969\n",
      "Epoch 142: saving model to model/point_history_classifier\\point_history_classifier.hdf5\n",
      "32/32 [==============================] - 0s 2ms/step - loss: 0.4523 - accuracy: 0.8497 - val_loss: 0.2389 - val_accuracy: 0.9637\n",
      "Epoch 143/1000\n",
      " 1/32 [..............................] - ETA: 0s - loss: 0.3455 - accuracy: 0.8750\n",
      "Epoch 143: saving model to model/point_history_classifier\\point_history_classifier.hdf5\n",
      "32/32 [==============================] - 0s 2ms/step - loss: 0.4276 - accuracy: 0.8535 - val_loss: 0.2441 - val_accuracy: 0.9637\n",
      "Epoch 144/1000\n",
      " 1/32 [..............................] - ETA: 0s - loss: 0.6656 - accuracy: 0.8594\n",
      "Epoch 144: saving model to model/point_history_classifier\\point_history_classifier.hdf5\n",
      "32/32 [==============================] - 0s 2ms/step - loss: 0.4439 - accuracy: 0.8502 - val_loss: 0.2437 - val_accuracy: 0.9645\n",
      "Epoch 145/1000\n",
      " 1/32 [..............................] - ETA: 0s - loss: 0.4499 - accuracy: 0.8438\n",
      "Epoch 145: saving model to model/point_history_classifier\\point_history_classifier.hdf5\n",
      "32/32 [==============================] - 0s 2ms/step - loss: 0.4524 - accuracy: 0.8505 - val_loss: 0.2439 - val_accuracy: 0.9622\n",
      "Epoch 146/1000\n",
      " 1/32 [..............................] - ETA: 0s - loss: 0.4050 - accuracy: 0.8828\n",
      "Epoch 146: saving model to model/point_history_classifier\\point_history_classifier.hdf5\n",
      "32/32 [==============================] - 0s 2ms/step - loss: 0.4525 - accuracy: 0.8454 - val_loss: 0.2432 - val_accuracy: 0.9615\n",
      "Epoch 147/1000\n",
      " 1/32 [..............................] - ETA: 0s - loss: 0.4221 - accuracy: 0.8516\n",
      "Epoch 147: saving model to model/point_history_classifier\\point_history_classifier.hdf5\n",
      "32/32 [==============================] - 0s 2ms/step - loss: 0.4536 - accuracy: 0.8399 - val_loss: 0.2423 - val_accuracy: 0.9592\n",
      "Epoch 148/1000\n",
      " 1/32 [..............................] - ETA: 0s - loss: 0.3628 - accuracy: 0.8672\n",
      "Epoch 148: saving model to model/point_history_classifier\\point_history_classifier.hdf5\n",
      "32/32 [==============================] - 0s 2ms/step - loss: 0.4594 - accuracy: 0.8313 - val_loss: 0.2513 - val_accuracy: 0.9539\n",
      "Epoch 149/1000\n",
      " 1/32 [..............................] - ETA: 0s - loss: 0.4856 - accuracy: 0.8359\n",
      "Epoch 149: saving model to model/point_history_classifier\\point_history_classifier.hdf5\n",
      "32/32 [==============================] - 0s 2ms/step - loss: 0.4559 - accuracy: 0.8512 - val_loss: 0.2436 - val_accuracy: 0.9630\n",
      "Epoch 150/1000\n",
      " 1/32 [..............................] - ETA: 0s - loss: 0.4021 - accuracy: 0.8516\n",
      "Epoch 150: saving model to model/point_history_classifier\\point_history_classifier.hdf5\n",
      "32/32 [==============================] - 0s 2ms/step - loss: 0.4517 - accuracy: 0.8406 - val_loss: 0.2419 - val_accuracy: 0.9615\n",
      "Epoch 151/1000\n",
      " 1/32 [..............................] - ETA: 0s - loss: 0.3580 - accuracy: 0.8750\n",
      "Epoch 151: saving model to model/point_history_classifier\\point_history_classifier.hdf5\n",
      "32/32 [==============================] - 0s 2ms/step - loss: 0.4299 - accuracy: 0.8492 - val_loss: 0.2394 - val_accuracy: 0.9607\n",
      "Epoch 152/1000\n",
      " 1/32 [..............................] - ETA: 0s - loss: 0.5122 - accuracy: 0.8203\n",
      "Epoch 152: saving model to model/point_history_classifier\\point_history_classifier.hdf5\n",
      "32/32 [==============================] - 0s 2ms/step - loss: 0.4382 - accuracy: 0.8391 - val_loss: 0.2392 - val_accuracy: 0.9607\n",
      "Epoch 153/1000\n",
      " 1/32 [..............................] - ETA: 0s - loss: 0.3885 - accuracy: 0.8750\n",
      "Epoch 153: saving model to model/point_history_classifier\\point_history_classifier.hdf5\n",
      "32/32 [==============================] - 0s 2ms/step - loss: 0.4357 - accuracy: 0.8494 - val_loss: 0.2388 - val_accuracy: 0.9592\n",
      "Epoch 154/1000\n",
      " 1/32 [..............................] - ETA: 0s - loss: 0.4917 - accuracy: 0.7891\n",
      "Epoch 154: saving model to model/point_history_classifier\\point_history_classifier.hdf5\n",
      "32/32 [==============================] - 0s 2ms/step - loss: 0.4481 - accuracy: 0.8404 - val_loss: 0.2397 - val_accuracy: 0.9615\n",
      "Epoch 154: early stopping\n"
     ]
    },
    {
     "data": {
      "text/plain": [
       "<keras.src.callbacks.History at 0x2517a40cf10>"
      ]
     },
     "execution_count": 12,
     "metadata": {},
     "output_type": "execute_result"
    }
   ],
   "source": [
    "model.fit(\n",
    "    X_train,\n",
    "    y_train,\n",
    "    epochs=1000,\n",
    "    batch_size=128,\n",
    "    validation_data=(X_test, y_test),\n",
    "    callbacks=[cp_callback, es_callback]\n",
    ")"
   ]
  },
  {
   "cell_type": "code",
   "execution_count": 13,
   "metadata": {},
   "outputs": [],
   "source": [
    "# Cargando modelos guardados\n",
    "\n",
    "model = tf.keras.models.load_model(model_save_path)"
   ]
  },
  {
   "cell_type": "code",
   "execution_count": 14,
   "metadata": {},
   "outputs": [
    {
     "name": "stdout",
     "output_type": "stream",
     "text": [
      "1/1 [==============================] - 0s 61ms/step\n",
      "[0.92058367 0.03097906 0.03217418 0.01626304]\n",
      "0\n"
     ]
    }
   ],
   "source": [
    "# prueba de razonamiento\n",
    "predict_result = model.predict(np.array([X_test[0]]))\n",
    "print(np.squeeze(predict_result))\n",
    "print(np.argmax(np.squeeze(predict_result)))"
   ]
  },
  {
   "cell_type": "markdown",
   "metadata": {},
   "source": [
    "# matriz de confusión\n"
   ]
  },
  {
   "cell_type": "code",
   "execution_count": 15,
   "metadata": {},
   "outputs": [
    {
     "name": "stdout",
     "output_type": "stream",
     "text": [
      "42/42 [==============================] - 0s 561us/step\n"
     ]
    },
    {
     "data": {
      "image/png": "[encoded data removed]",
      "text/plain": [
       "<Figure size 700x600 with 2 Axes>"
      ]
     },
     "metadata": {},
     "output_type": "display_data"
    },
    {
     "name": "stdout",
     "output_type": "stream",
     "text": [
      "Classification Report\n",
      "              precision    recall  f1-score   support\n",
      "\n",
      "           0       0.99      1.00      0.99       395\n",
      "           1       0.94      0.99      0.96       295\n",
      "           2       0.94      0.98      0.96       307\n",
      "           3       0.97      0.87      0.92       327\n",
      "\n",
      "    accuracy                           0.96      1324\n",
      "   macro avg       0.96      0.96      0.96      1324\n",
      "weighted avg       0.96      0.96      0.96      1324\n",
      "\n"
     ]
    }
   ],
   "source": [
    "import pandas as pd\n",
    "import seaborn as sns\n",
    "import matplotlib.pyplot as plt\n",
    "from sklearn.metrics import confusion_matrix, classification_report\n",
    "\n",
    "def print_confusion_matrix(y_true, y_pred, report=True):\n",
    "    labels = sorted(list(set(y_true)))\n",
    "    cmx_data = confusion_matrix(y_true, y_pred, labels=labels)\n",
    "    \n",
    "    df_cmx = pd.DataFrame(cmx_data, index=labels, columns=labels)\n",
    " \n",
    "    fig, ax = plt.subplots(figsize=(7, 6))\n",
    "    sns.heatmap(df_cmx, annot=True, fmt='g' ,square=False)\n",
    "    ax.set_ylim(len(set(y_true)), 0)\n",
    "    plt.show()\n",
    "    \n",
    "    if report:\n",
    "        print('Classification Report')\n",
    "        print(classification_report(y_test, y_pred))\n",
    "\n",
    "Y_pred = model.predict(X_test)\n",
    "y_pred = np.argmax(Y_pred, axis=1)\n",
    "\n",
    "print_confusion_matrix(y_test, y_pred)"
   ]
  },
  {
   "cell_type": "markdown",
   "metadata": {},
   "source": [
    "# Tensorflow-Lite"
   ]
  },
  {
   "cell_type": "code",
   "execution_count": 16,
   "metadata": {},
   "outputs": [
    {
     "name": "stdout",
     "output_type": "stream",
     "text": [
      "WARNING:tensorflow:No training configuration found in the save file, so the model was *not* compiled. Compile it manually.\n"
     ]
    },
    {
     "name": "stderr",
     "output_type": "stream",
     "text": [
      "c:\\Users\\selca\\AppData\\Local\\Programs\\Python\\Python311\\Lib\\site-packages\\keras\\src\\engine\\training.py:3086: UserWarning: You are saving your model as an HDF5 file via `model.save()`. This file format is considered legacy. We recommend using instead the native Keras format, e.g. `model.save('my_model.keras')`.\n",
      "  saving_api.save_model(\n"
     ]
    }
   ],
   "source": [
    "# Guardar como modelo de solo inferencia\n",
    "\n",
    "model.save(model_save_path, include_optimizer=False)\n",
    "model = tf.keras.models.load_model(model_save_path)"
   ]
  },
  {
   "cell_type": "code",
   "execution_count": 17,
   "metadata": {},
   "outputs": [],
   "source": [
    "tflite_save_path = 'model/point_history_classifier/point_history_classifier.tflite'"
   ]
  },
  {
   "cell_type": "code",
   "execution_count": 18,
   "metadata": {},
   "outputs": [
    {
     "name": "stdout",
     "output_type": "stream",
     "text": [
      "INFO:tensorflow:Assets written to: C:\\Users\\selca\\AppData\\Local\\Temp\\tmpwxcj3fhk\\assets\n"
     ]
    },
    {
     "name": "stderr",
     "output_type": "stream",
     "text": [
      "INFO:tensorflow:Assets written to: C:\\Users\\selca\\AppData\\Local\\Temp\\tmpwxcj3fhk\\assets\n"
     ]
    },
    {
     "data": {
      "text/plain": [
       "6444"
      ]
     },
     "execution_count": 18,
     "metadata": {},
     "output_type": "execute_result"
    }
   ],
   "source": [
    "# transformar el modelo cuantizar\n",
    "converter = tf.lite.TFLiteConverter.from_keras_model(model)  # converter = tf.lite.TFLiteConverter.from_saved_model(saved_model_path)\n",
    "converter.optimizations = [tf.lite.Optimize.DEFAULT]\n",
    "tflite_quantized_model = converter.convert()\n",
    "\n",
    "open(tflite_save_path, 'wb').write(tflite_quantized_model)"
   ]
  },
  {
   "cell_type": "markdown",
   "metadata": {},
   "source": [
    "# prueba de razonamiento\n"
   ]
  },
  {
   "cell_type": "code",
   "execution_count": 19,
   "metadata": {},
   "outputs": [],
   "source": [
    "interpreter = tf.lite.Interpreter(model_path=tflite_save_path)\n",
    "interpreter.allocate_tensors()"
   ]
  },
  {
   "cell_type": "code",
   "execution_count": 20,
   "metadata": {},
   "outputs": [
    {
     "name": "stdout",
     "output_type": "stream",
     "text": [
      "[{'name': 'serving_default_input_1:0', 'index': 0, 'shape': array([ 1, 32]), 'shape_signature': array([-1, 32]), 'dtype': <class 'numpy.float32'>, 'quantization': (0.0, 0), 'quantization_parameters': {'scales': array([], dtype=float32), 'zero_points': array([], dtype=int32), 'quantized_dimension': 0}, 'sparsity_parameters': {}}]\n"
     ]
    }
   ],
   "source": [
    "# obtener tensor de entrada/salida\n",
    "\n",
    "input_details = interpreter.get_input_details()\n",
    "output_details = interpreter.get_output_details()\n",
    "print(input_details)"
   ]
  },
  {
   "cell_type": "code",
   "execution_count": 21,
   "metadata": {},
   "outputs": [],
   "source": [
    "interpreter.set_tensor(input_details[0]['index'], np.array([X_test[0]]))"
   ]
  },
  {
   "cell_type": "code",
   "execution_count": 22,
   "metadata": {},
   "outputs": [
    {
     "name": "stdout",
     "output_type": "stream",
     "text": [
      "CPU times: total: 0 ns\n",
      "Wall time: 0 ns\n"
     ]
    }
   ],
   "source": [
    "%%time\n",
    "# Ejecución de inferencia\n",
    "interpreter.invoke()\n",
    "tflite_results = interpreter.get_tensor(output_details[0]['index'])"
   ]
  },
  {
   "cell_type": "code",
   "execution_count": 23,
   "metadata": {},
   "outputs": [
    {
     "name": "stdout",
     "output_type": "stream",
     "text": [
      "[0.92058367 0.03097906 0.03217418 0.01626304]\n",
      "0\n"
     ]
    }
   ],
   "source": [
    "print(np.squeeze(tflite_results))\n",
    "print(np.argmax(np.squeeze(tflite_results)))"
   ]
  }
 ],
 "metadata": {
  "kernelspec": {
   "display_name": "Python 3",
   "language": "python",
   "name": "python3"
  },
  "language_info": {
   "codemirror_mode": {
    "name": "ipython",
    "version": 3
   },
   "file_extension": ".py",
   "mimetype": "text/x-python",
   "name": "python",
   "nbconvert_exporter": "python",
   "pygments_lexer": "ipython3",
   "version": "3.11.4"
  }
 },
 "nbformat": 4,
 "nbformat_minor": 4
}
